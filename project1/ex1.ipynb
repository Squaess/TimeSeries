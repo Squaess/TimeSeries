{
 "cells": [
  {
   "cell_type": "code",
   "execution_count": 1,
   "metadata": {},
   "outputs": [
    {
     "name": "stderr",
     "output_type": "stream",
     "text": [
      "Using TensorFlow backend.\n"
     ]
    }
   ],
   "source": [
    "import os\n",
    "from pathlib import Path\n",
    "import numpy as np\n",
    "import pywt\n",
    "import matplotlib.pyplot as plt\n",
    "import keras\n",
    "from keras.utils import to_categorical\n",
    "from keras.models import Sequential\n",
    "from keras.layers import Dense, Conv2D, Flatten, MaxPooling2D"
   ]
  },
  {
   "cell_type": "code",
   "execution_count": 4,
   "metadata": {},
   "outputs": [],
   "source": [
    "def readData(root_directory: str):\n",
    "    p = Path(root_directory)\n",
    "    x_path = list(p.glob('X*.txt'))[0]\n",
    "    y_path = list(p.glob('y*.txt'))[0]\n",
    "    x = np.loadtxt(x_path)\n",
    "    y = np.loadtxt(y_path)\n",
    "    return x,y"
   ]
  },
  {
   "cell_type": "code",
   "execution_count": 8,
   "metadata": {},
   "outputs": [],
   "source": [
    "x, y = readData('data/train')\n",
    "x_test, y_test = readData('data/test')"
   ]
  },
  {
   "cell_type": "code",
   "execution_count": 9,
   "metadata": {},
   "outputs": [
    {
     "name": "stdout",
     "output_type": "stream",
     "text": [
      "(7352, 561)\n",
      "(7352,)\n",
      "(2947, 561)\n",
      "(2947,)\n"
     ]
    }
   ],
   "source": [
    "print(x.shape)\n",
    "print(y.shape)\n",
    "print(x_test.shape)\n",
    "print(y_test.shape)"
   ]
  },
  {
   "cell_type": "code",
   "execution_count": 7,
   "metadata": {},
   "outputs": [],
   "source": [
    "def myCWT(vector):\n",
    "    wavelet = \"morl\"\n",
    "    coeff, freqs = pywt.cwt(vector, np.arange(1,129), wavelet)\n",
    "    # Im't not sure about the square power here\n",
    "    cwtPower = coeff #abs(coeff)**2\n",
    "#     fig, ax=plt.subplots(figsize=(12, 12))\n",
    "#     im=ax.imshow(cwtPower[::-1],aspect='auto')\n",
    "    return cwtPower"
   ]
  },
  {
   "cell_type": "code",
   "execution_count": 11,
   "metadata": {},
   "outputs": [
    {
     "name": "stdout",
     "output_type": "stream",
     "text": [
      "0\n",
      "1000\n",
      "2000\n",
      "3000\n",
      "4000\n",
      "5000\n",
      "6000\n",
      "7000\n"
     ]
    }
   ],
   "source": [
    "x_train = np.empty((len(x), 128, 561, 1))\n",
    "for i, v in enumerate(x):\n",
    "    if i % 1000 == 0:\n",
    "        print(i)\n",
    "    xi = myCWT(v)\n",
    "    xi = xi.reshape(xi.shape[0], xi.shape[1], 1)\n",
    "    x_train[i] = xi"
   ]
  },
  {
   "cell_type": "code",
   "execution_count": 12,
   "metadata": {},
   "outputs": [
    {
     "name": "stdout",
     "output_type": "stream",
     "text": [
      "0\n",
      "100\n",
      "200\n",
      "300\n",
      "400\n",
      "500\n",
      "600\n",
      "700\n",
      "800\n",
      "900\n",
      "1000\n",
      "1100\n",
      "1200\n",
      "1300\n",
      "1400\n",
      "1500\n",
      "1600\n",
      "1700\n",
      "1800\n",
      "1900\n",
      "2000\n",
      "2100\n",
      "2200\n",
      "2300\n",
      "2400\n",
      "2500\n",
      "2600\n",
      "2700\n",
      "2800\n",
      "2900\n"
     ]
    }
   ],
   "source": [
    "x_test1 = np.empty((len(x_test), 128, 561, 1))\n",
    "for i, v in enumerate(x_test):\n",
    "    if i % 100 == 0:\n",
    "        print(i)\n",
    "    xi = myCWT(v)\n",
    "    xi = xi.reshape(xi.shape[0], xi.shape[1], 1)\n",
    "    x_test1[i] = xi"
   ]
  },
  {
   "cell_type": "code",
   "execution_count": 13,
   "metadata": {},
   "outputs": [],
   "source": [
    "y_train = to_categorical([i-1 for i in y])\n",
    "y_test1 = to_categorical([i-1 for i in y_test])"
   ]
  },
  {
   "cell_type": "code",
   "execution_count": 17,
   "metadata": {},
   "outputs": [
    {
     "name": "stdout",
     "output_type": "stream",
     "text": [
      "[0. 0. 0. 0. 1. 0.]\n",
      "[0. 0. 0. 0. 1. 0.]\n"
     ]
    }
   ],
   "source": [
    "print(y_train[0])\n",
    "print(y_test1[0])"
   ]
  },
  {
   "cell_type": "code",
   "execution_count": 15,
   "metadata": {},
   "outputs": [
    {
     "name": "stdout",
     "output_type": "stream",
     "text": [
      "(7352, 128, 561, 1)\n",
      "(2947, 128, 561, 1)\n"
     ]
    }
   ],
   "source": [
    "print(x_train.shape)\n",
    "print(x_test1.shape)"
   ]
  },
  {
   "cell_type": "code",
   "execution_count": 19,
   "metadata": {},
   "outputs": [],
   "source": [
    "import pickle\n",
    "with open(\"x_train\", \"wb\") as f:\n",
    "    pickle.dump(x_train, f)\n",
    "with open(\"y_train\", \"wb\") as f:\n",
    "    pickle.dump(y_train, f)\n",
    "with open(\"x_test\", \"wb\") as f:\n",
    "    pickle.dump(x_test1, f)\n",
    "with open(\"y_test\", \"wb\") as f:\n",
    "    pickle.dump(y_test1, f)"
   ]
  },
  {
   "cell_type": "code",
   "execution_count": 12,
   "metadata": {},
   "outputs": [],
   "source": [
    "#create model\n",
    "model = Sequential()#add model layers\n",
    "model.add(Conv2D(64, kernel_size=(5, 5), \n",
    "                 activation='relu', \n",
    "                 input_shape=(128,561,1)))\n",
    "model.add(MaxPooling2D(pool_size=(2, 2)))\n",
    "model.add(Conv2D(64, kernel_size=3, activation='relu'))\n",
    "model.add(MaxPooling2D(pool_size=(2, 2)))\n",
    "model.add(Flatten())\n",
    "model.add(Dense(6, activation='softmax'))"
   ]
  },
  {
   "cell_type": "code",
   "execution_count": 15,
   "metadata": {},
   "outputs": [
    {
     "name": "stdout",
     "output_type": "stream",
     "text": [
      "Epoch 1/3\n",
      "7352/7352 [==============================] - 44s 6ms/step - loss: 0.8035 - accuracy: 0.7225\n",
      "Epoch 2/3\n",
      "7352/7352 [==============================] - 26s 3ms/step - loss: 0.2868 - accuracy: 0.8958\n",
      "Epoch 3/3\n",
      "7352/7352 [==============================] - 25s 3ms/step - loss: 0.1639 - accuracy: 0.9411\n"
     ]
    },
    {
     "data": {
      "text/plain": [
       "<keras.callbacks.callbacks.History at 0x2b55380d288>"
      ]
     },
     "execution_count": 15,
     "metadata": {},
     "output_type": "execute_result"
    }
   ],
   "source": [
    "model.compile(loss=keras.losses.categorical_crossentropy,\n",
    "             optimizer=keras.optimizers.Adadelta(),\n",
    "             metrics=['accuracy'])\n",
    "model.fit(x_train, y_train, batch_size=64, epochs=3, verbose=1)"
   ]
  },
  {
   "cell_type": "code",
   "execution_count": null,
   "metadata": {},
   "outputs": [],
   "source": []
  }
 ],
 "metadata": {
  "file_extension": ".py",
  "kernelspec": {
   "display_name": "Python 3",
   "language": "python",
   "name": "python3"
  },
  "language_info": {
   "codemirror_mode": {
    "name": "ipython",
    "version": 3
   },
   "file_extension": ".py",
   "mimetype": "text/x-python",
   "name": "python",
   "nbconvert_exporter": "python",
   "pygments_lexer": "ipython3",
   "version": "3.7.7"
  },
  "mimetype": "text/x-python",
  "name": "python",
  "npconvert_exporter": "python",
  "pygments_lexer": "ipython3",
  "version": 3
 },
 "nbformat": 4,
 "nbformat_minor": 4
}
