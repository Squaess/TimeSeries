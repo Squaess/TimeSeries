{
 "cells": [
  {
   "cell_type": "code",
   "execution_count": 10,
   "metadata": {
    "colab": {
     "base_uri": "https://localhost:8080/",
     "height": 74
    },
    "colab_type": "code",
    "id": "paU_ciQHhAbk",
    "outputId": "bd4c12b9-5fe1-4fb0-c4e1-9af7731fd669"
   },
   "outputs": [],
   "source": [
    "import numpy as np\n",
    "import matplotlib.pyplot as plt\n",
    "import pandas as pd\n",
    "import statsmodels.graphics.tsaplots as sgt\n",
    "from statsmodels.tsa.arima_model import ARMA"
   ]
  },
  {
   "cell_type": "code",
   "execution_count": 13,
   "metadata": {
    "colab": {},
    "colab_type": "code",
    "id": "1awukze6QqHb"
   },
   "outputs": [],
   "source": [
    "def ARMASeries(ARcoeffs,MAcoeffs,std,x0,nPoints):\n",
    "  n_ar = len(ARcoeffs)\n",
    "  n_ma = len(MAcoeffs)\n",
    "  x = [x0]*(n_ar-1)\n",
    "  np.random.seed()\n",
    "  gaussNoise = np.random.normal(0.0,std,nPoints)\n",
    "  for i in range(nPoints):\n",
    "    xNew = ARcoeffs[0]\n",
    "    for j in range(1,n_ar):\n",
    "      xNew += ARcoeffs[j]*x[-j]\n",
    "    xNew += gaussNoise[i]\n",
    "    for jj in range(1,n_ma):\n",
    "      xNew += MAcoeffs[jj]*gaussNoise[-jj]\n",
    "    x.append(xNew)\n",
    "  return x"
   ]
  },
  {
   "cell_type": "code",
   "execution_count": 18,
   "metadata": {
    "colab": {
     "base_uri": "https://localhost:8080/",
     "height": 283
    },
    "colab_type": "code",
    "id": "6JM5Mm1tWYVc",
    "outputId": "2c414be3-fe07-4ef1-d156-c2b19921d602"
   },
   "outputs": [],
   "source": [
    "armaSeries1 = ARMASeries([.1, .75,-.25],[.65, .35],1.0,0.0,250)\n",
    "#plt.plot(arSeries1)\n",
    "#plt.show()\n",
    "# armaSeries2 = ARMASeries([1,-0.9],[1,0.5],1.0,0.0,200)\n",
    "# df = pd.DataFrame({'AR1':armaSeries1,'AR2': armaSeries2})\n",
    "# df.AR1.plot()\n",
    "# df.AR2.plot()"
   ]
  },
  {
   "cell_type": "code",
   "execution_count": 19,
   "metadata": {
    "colab": {
     "base_uri": "https://localhost:8080/",
     "height": 286
    },
    "colab_type": "code",
    "id": "_KmvAbtEXp-g",
    "outputId": "f25c00bc-9811-49d3-8faa-7311468ee40f"
   },
   "outputs": [
    {
     "data": {
      "image/png": "[encoded data removed]",
      "text/plain": [
       "<Figure size 432x288 with 1 Axes>"
      ]
     },
     "metadata": {
      "needs_background": "light"
     },
     "output_type": "display_data"
    }
   ],
   "source": [
    "sgt.plot_acf(armaSeries1,zero =False,lags =50)\n",
    "plt.title('ACF FOR AR1', size = 20)\n",
    "plt.show()"
   ]
  },
  {
   "cell_type": "code",
   "execution_count": 20,
   "metadata": {
    "colab": {
     "base_uri": "https://localhost:8080/",
     "height": 286
    },
    "colab_type": "code",
    "id": "ECE-pve5Y7fH",
    "outputId": "535d4170-f228-4634-9c39-32ddb6e5319d"
   },
   "outputs": [
    {
     "data": {
      "image/png": "[encoded data removed]",
      "text/plain": [
       "<Figure size 432x288 with 1 Axes>"
      ]
     },
     "metadata": {
      "needs_background": "light"
     },
     "output_type": "display_data"
    }
   ],
   "source": [
    "sgt.plot_pacf(armaSeries1,zero =False,lags =40)\n",
    "plt.title('PACF FOR AR1', size = 20)\n",
    "plt.show()"
   ]
  },
  {
   "cell_type": "code",
   "execution_count": 21,
   "metadata": {
    "colab": {},
    "colab_type": "code",
    "id": "RmCy6zLZZmfn"
   },
   "outputs": [
    {
     "data": {
      "text/html": [
       "<table class=\"simpletable\">\n",
       "<caption>ARMA Model Results</caption>\n",
       "<tr>\n",
       "  <th>Dep. Variable:</th>         <td>y</td>        <th>  No. Observations:  </th>    <td>252</td>  \n",
       "</tr>\n",
       "<tr>\n",
       "  <th>Model:</th>            <td>ARMA(2, 2)</td>    <th>  Log Likelihood     </th> <td>-341.764</td>\n",
       "</tr>\n",
       "<tr>\n",
       "  <th>Method:</th>             <td>css-mle</td>     <th>  S.D. of innovations</th>   <td>0.938</td> \n",
       "</tr>\n",
       "<tr>\n",
       "  <th>Date:</th>          <td>Sun, 17 May 2020</td> <th>  AIC                </th>  <td>695.528</td>\n",
       "</tr>\n",
       "<tr>\n",
       "  <th>Time:</th>              <td>19:03:33</td>     <th>  BIC                </th>  <td>716.705</td>\n",
       "</tr>\n",
       "<tr>\n",
       "  <th>Sample:</th>                <td>0</td>        <th>  HQIC               </th>  <td>704.049</td>\n",
       "</tr>\n",
       "<tr>\n",
       "  <th></th>                       <td> </td>        <th>                     </th>     <td> </td>   \n",
       "</tr>\n",
       "</table>\n",
       "<table class=\"simpletable\">\n",
       "<tr>\n",
       "     <td></td>        <th>coef</th>     <th>std err</th>      <th>z</th>      <th>P>|z|</th>  <th>[0.025</th>    <th>0.975]</th>  \n",
       "</tr>\n",
       "<tr>\n",
       "  <th>const</th>   <td>   -0.4357</td> <td>    0.131</td> <td>   -3.322</td> <td> 0.001</td> <td>   -0.693</td> <td>   -0.179</td>\n",
       "</tr>\n",
       "<tr>\n",
       "  <th>ar.L1.y</th> <td>    0.7099</td> <td>    0.614</td> <td>    1.156</td> <td> 0.248</td> <td>   -0.493</td> <td>    1.913</td>\n",
       "</tr>\n",
       "<tr>\n",
       "  <th>ar.L2.y</th> <td>   -0.1808</td> <td>    0.322</td> <td>   -0.561</td> <td> 0.575</td> <td>   -0.813</td> <td>    0.451</td>\n",
       "</tr>\n",
       "<tr>\n",
       "  <th>ma.L1.y</th> <td>   -0.0154</td> <td>    0.614</td> <td>   -0.025</td> <td> 0.980</td> <td>   -1.219</td> <td>    1.188</td>\n",
       "</tr>\n",
       "<tr>\n",
       "  <th>ma.L2.y</th> <td>    0.0636</td> <td>    0.151</td> <td>    0.421</td> <td> 0.674</td> <td>   -0.233</td> <td>    0.360</td>\n",
       "</tr>\n",
       "</table>\n",
       "<table class=\"simpletable\">\n",
       "<caption>Roots</caption>\n",
       "<tr>\n",
       "    <td></td>   <th>            Real</th>  <th>         Imaginary</th> <th>         Modulus</th>  <th>        Frequency</th>\n",
       "</tr>\n",
       "<tr>\n",
       "  <th>AR.1</th> <td>           1.9634</td> <td>          -1.2948j</td> <td>           2.3519</td> <td>          -0.0928</td>\n",
       "</tr>\n",
       "<tr>\n",
       "  <th>AR.2</th> <td>           1.9634</td> <td>          +1.2948j</td> <td>           2.3519</td> <td>           0.0928</td>\n",
       "</tr>\n",
       "<tr>\n",
       "  <th>MA.1</th> <td>           0.1211</td> <td>          -3.9639j</td> <td>           3.9657</td> <td>          -0.2451</td>\n",
       "</tr>\n",
       "<tr>\n",
       "  <th>MA.2</th> <td>           0.1211</td> <td>          +3.9639j</td> <td>           3.9657</td> <td>           0.2451</td>\n",
       "</tr>\n",
       "</table>"
      ],
      "text/plain": [
       "<class 'statsmodels.iolib.summary.Summary'>\n",
       "\"\"\"\n",
       "                              ARMA Model Results                              \n",
       "==============================================================================\n",
       "Dep. Variable:                      y   No. Observations:                  252\n",
       "Model:                     ARMA(2, 2)   Log Likelihood                -341.764\n",
       "Method:                       css-mle   S.D. of innovations              0.938\n",
       "Date:                Sun, 17 May 2020   AIC                            695.528\n",
       "Time:                        19:03:33   BIC                            716.705\n",
       "Sample:                             0   HQIC                           704.049\n",
       "                                                                              \n",
       "==============================================================================\n",
       "                 coef    std err          z      P>|z|      [0.025      0.975]\n",
       "------------------------------------------------------------------------------\n",
       "const         -0.4357      0.131     -3.322      0.001      -0.693      -0.179\n",
       "ar.L1.y        0.7099      0.614      1.156      0.248      -0.493       1.913\n",
       "ar.L2.y       -0.1808      0.322     -0.561      0.575      -0.813       0.451\n",
       "ma.L1.y       -0.0154      0.614     -0.025      0.980      -1.219       1.188\n",
       "ma.L2.y        0.0636      0.151      0.421      0.674      -0.233       0.360\n",
       "                                    Roots                                    \n",
       "=============================================================================\n",
       "                  Real          Imaginary           Modulus         Frequency\n",
       "-----------------------------------------------------------------------------\n",
       "AR.1            1.9634           -1.2948j            2.3519           -0.0928\n",
       "AR.2            1.9634           +1.2948j            2.3519            0.0928\n",
       "MA.1            0.1211           -3.9639j            3.9657           -0.2451\n",
       "MA.2            0.1211           +3.9639j            3.9657            0.2451\n",
       "-----------------------------------------------------------------------------\n",
       "\"\"\""
      ]
     },
     "execution_count": 21,
     "metadata": {},
     "output_type": "execute_result"
    }
   ],
   "source": [
    "model = ARMA(armaSeries1, order=(2,2)).fit()\n",
    "model.summary()"
   ]
  },
  {
   "cell_type": "code",
   "execution_count": null,
   "metadata": {},
   "outputs": [],
   "source": []
  }
 ],
 "metadata": {
  "colab": {
   "collapsed_sections": [],
   "name": "Time_series_lab4.ipynb",
   "provenance": []
  },
  "kernelspec": {
   "display_name": "Python 3",
   "language": "python",
   "name": "python3"
  },
  "language_info": {
   "codemirror_mode": {
    "name": "ipython",
    "version": 3
   },
   "file_extension": ".py",
   "mimetype": "text/x-python",
   "name": "python",
   "nbconvert_exporter": "python",
   "pygments_lexer": "ipython3",
   "version": "3.8.2"
  }
 },
 "nbformat": 4,
 "nbformat_minor": 4
}
